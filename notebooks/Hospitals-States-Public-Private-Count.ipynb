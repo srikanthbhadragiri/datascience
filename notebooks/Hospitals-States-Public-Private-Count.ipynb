{
 "cells": [
  {
   "cell_type": "code",
   "execution_count": 526,
   "metadata": {},
   "outputs": [
    {
     "data": {
      "text/plain": [
       "'/Users/srikanthbhadragiri/Datamites'"
      ]
     },
     "execution_count": 526,
     "metadata": {},
     "output_type": "execute_result"
    }
   ],
   "source": [
    "pwd"
   ]
  },
  {
   "cell_type": "code",
   "execution_count": 527,
   "metadata": {},
   "outputs": [
    {
     "name": "stdout",
     "output_type": "stream",
     "text": [
      "/Users/srikanthbhadragiri/Datamites/datasets\n"
     ]
    }
   ],
   "source": [
    "cd datasets"
   ]
  },
  {
   "cell_type": "code",
   "execution_count": 528,
   "metadata": {},
   "outputs": [
    {
     "name": "stdout",
     "output_type": "stream",
     "text": [
      "Hospitals count in India - Statewise.csv\r\n"
     ]
    }
   ],
   "source": [
    "ls"
   ]
  },
  {
   "cell_type": "code",
   "execution_count": 529,
   "metadata": {},
   "outputs": [
    {
     "name": "stdout",
     "output_type": "stream",
     "text": [
      "/Users/srikanthbhadragiri/Datamites\n"
     ]
    }
   ],
   "source": [
    "cd .."
   ]
  },
  {
   "cell_type": "code",
   "execution_count": 530,
   "metadata": {},
   "outputs": [],
   "source": [
    "import pandas as pd"
   ]
  },
  {
   "cell_type": "code",
   "execution_count": 531,
   "metadata": {},
   "outputs": [],
   "source": [
    "df = pd.read_csv('./datasets/Hospitals count in India - Statewise.csv')"
   ]
  },
  {
   "cell_type": "code",
   "execution_count": 532,
   "metadata": {
    "scrolled": true
   },
   "outputs": [
    {
     "data": {
      "text/plain": [
       "(37, 4)"
      ]
     },
     "execution_count": 532,
     "metadata": {},
     "output_type": "execute_result"
    }
   ],
   "source": [
    "df.shape"
   ]
  },
  {
   "cell_type": "code",
   "execution_count": 533,
   "metadata": {},
   "outputs": [
    {
     "data": {
      "text/plain": [
       "States/UTs                                    object\n",
       "Number of hospitals in public sector          object\n",
       "Number of hospitals in private sector         object\n",
       "Total number of hospitals (public+private)    object\n",
       "dtype: object"
      ]
     },
     "execution_count": 533,
     "metadata": {},
     "output_type": "execute_result"
    }
   ],
   "source": [
    "df.dtypes"
   ]
  },
  {
   "cell_type": "code",
   "execution_count": 534,
   "metadata": {},
   "outputs": [
    {
     "data": {
      "text/html": [
       "<div>\n",
       "<style scoped>\n",
       "    .dataframe tbody tr th:only-of-type {\n",
       "        vertical-align: middle;\n",
       "    }\n",
       "\n",
       "    .dataframe tbody tr th {\n",
       "        vertical-align: top;\n",
       "    }\n",
       "\n",
       "    .dataframe thead th {\n",
       "        text-align: right;\n",
       "    }\n",
       "</style>\n",
       "<table border=\"1\" class=\"dataframe\">\n",
       "  <thead>\n",
       "    <tr style=\"text-align: right;\">\n",
       "      <th></th>\n",
       "      <th>States/UTs</th>\n",
       "      <th>Number of hospitals in public sector</th>\n",
       "      <th>Number of hospitals in private sector</th>\n",
       "      <th>Total number of hospitals (public+private)</th>\n",
       "    </tr>\n",
       "  </thead>\n",
       "  <tbody>\n",
       "    <tr>\n",
       "      <th>0</th>\n",
       "      <td>Lakshadweep</td>\n",
       "      <td>9</td>\n",
       "      <td>4</td>\n",
       "      <td>13</td>\n",
       "    </tr>\n",
       "    <tr>\n",
       "      <th>1</th>\n",
       "      <td>Chandigarh</td>\n",
       "      <td>9</td>\n",
       "      <td>4</td>\n",
       "      <td>13</td>\n",
       "    </tr>\n",
       "    <tr>\n",
       "      <th>2</th>\n",
       "      <td>Dadra &amp; N Haveli</td>\n",
       "      <td>12</td>\n",
       "      <td>6</td>\n",
       "      <td>18</td>\n",
       "    </tr>\n",
       "    <tr>\n",
       "      <th>3</th>\n",
       "      <td>Puducherry</td>\n",
       "      <td>14</td>\n",
       "      <td>6</td>\n",
       "      <td>20</td>\n",
       "    </tr>\n",
       "    <tr>\n",
       "      <th>4</th>\n",
       "      <td>Daman &amp; Diu</td>\n",
       "      <td>5</td>\n",
       "      <td>21</td>\n",
       "      <td>26</td>\n",
       "    </tr>\n",
       "  </tbody>\n",
       "</table>\n",
       "</div>"
      ],
      "text/plain": [
       "         States/UTs Number of hospitals in public sector  \\\n",
       "0       Lakshadweep                                    9   \n",
       "1        Chandigarh                                    9   \n",
       "2  Dadra & N Haveli                                   12   \n",
       "3        Puducherry                                   14   \n",
       "4       Daman & Diu                                    5   \n",
       "\n",
       "  Number of hospitals in private sector  \\\n",
       "0                                     4   \n",
       "1                                     4   \n",
       "2                                     6   \n",
       "3                                     6   \n",
       "4                                    21   \n",
       "\n",
       "  Total number of hospitals (public+private)  \n",
       "0                                         13  \n",
       "1                                         13  \n",
       "2                                         18  \n",
       "3                                         20  \n",
       "4                                         26  "
      ]
     },
     "execution_count": 534,
     "metadata": {},
     "output_type": "execute_result"
    }
   ],
   "source": [
    "df.head()"
   ]
  },
  {
   "cell_type": "code",
   "execution_count": 535,
   "metadata": {},
   "outputs": [
    {
     "data": {
      "text/html": [
       "<div>\n",
       "<style scoped>\n",
       "    .dataframe tbody tr th:only-of-type {\n",
       "        vertical-align: middle;\n",
       "    }\n",
       "\n",
       "    .dataframe tbody tr th {\n",
       "        vertical-align: top;\n",
       "    }\n",
       "\n",
       "    .dataframe thead th {\n",
       "        text-align: right;\n",
       "    }\n",
       "</style>\n",
       "<table border=\"1\" class=\"dataframe\">\n",
       "  <thead>\n",
       "    <tr style=\"text-align: right;\">\n",
       "      <th></th>\n",
       "      <th>States/UTs</th>\n",
       "      <th>Number of hospitals in public sector</th>\n",
       "      <th>Number of hospitals in private sector</th>\n",
       "      <th>Total number of hospitals (public+private)</th>\n",
       "    </tr>\n",
       "  </thead>\n",
       "  <tbody>\n",
       "    <tr>\n",
       "      <th>count</th>\n",
       "      <td>37</td>\n",
       "      <td>36</td>\n",
       "      <td>36</td>\n",
       "      <td>36</td>\n",
       "    </tr>\n",
       "    <tr>\n",
       "      <th>unique</th>\n",
       "      <td>37</td>\n",
       "      <td>34</td>\n",
       "      <td>31</td>\n",
       "      <td>35</td>\n",
       "    </tr>\n",
       "    <tr>\n",
       "      <th>top</th>\n",
       "      <td>Kerala</td>\n",
       "      <td>9</td>\n",
       "      <td>6</td>\n",
       "      <td>13</td>\n",
       "    </tr>\n",
       "    <tr>\n",
       "      <th>freq</th>\n",
       "      <td>1</td>\n",
       "      <td>2</td>\n",
       "      <td>3</td>\n",
       "      <td>2</td>\n",
       "    </tr>\n",
       "  </tbody>\n",
       "</table>\n",
       "</div>"
      ],
      "text/plain": [
       "       States/UTs Number of hospitals in public sector  \\\n",
       "count          37                                   36   \n",
       "unique         37                                   34   \n",
       "top        Kerala                                    9   \n",
       "freq            1                                    2   \n",
       "\n",
       "       Number of hospitals in private sector  \\\n",
       "count                                     36   \n",
       "unique                                    31   \n",
       "top                                        6   \n",
       "freq                                       3   \n",
       "\n",
       "       Total number of hospitals (public+private)  \n",
       "count                                          36  \n",
       "unique                                         35  \n",
       "top                                            13  \n",
       "freq                                            2  "
      ]
     },
     "execution_count": 535,
     "metadata": {},
     "output_type": "execute_result"
    }
   ],
   "source": [
    "df.describe()"
   ]
  },
  {
   "cell_type": "code",
   "execution_count": 536,
   "metadata": {},
   "outputs": [
    {
     "name": "stdout",
     "output_type": "stream",
     "text": [
      "<class 'pandas.core.frame.DataFrame'>\n",
      "RangeIndex: 37 entries, 0 to 36\n",
      "Data columns (total 4 columns):\n",
      " #   Column                                      Non-Null Count  Dtype \n",
      "---  ------                                      --------------  ----- \n",
      " 0   States/UTs                                  37 non-null     object\n",
      " 1   Number of hospitals in public sector        36 non-null     object\n",
      " 2   Number of hospitals in private sector       36 non-null     object\n",
      " 3   Total number of hospitals (public+private)  36 non-null     object\n",
      "dtypes: object(4)\n",
      "memory usage: 1.3+ KB\n"
     ]
    }
   ],
   "source": [
    "df.info()"
   ]
  },
  {
   "cell_type": "markdown",
   "metadata": {},
   "source": [
    "### Initial Analysis\n",
    "- Dataset consists of 4 columns and 37 rows of data\n",
    "- Data represents various states/UTs, the count of hospitals in private, public sectors and Total count of hostitals\n",
    "\n",
    "### What to infer?\n",
    "- which states/UTs has more number of hospitals.\n",
    "    - Show a pie chart\n",
    "    - Show a bar chart\n",
    "- which states/UTs has more number of private hospitals when compared with public hospitals.\n",
    "    - Show in a stacked bar chart\n",
    "\n",
    "-- Get the population index of each state/ut and compare which states/uts population with number of hospitals."
   ]
  },
  {
   "cell_type": "markdown",
   "metadata": {},
   "source": [
    "- cleanup\n",
    "    - Find any null values in hospital counts\n",
    "    - what could be done to fill them up\n",
    "    - All datatypes are of object type.\n",
    "        - convert Number of hospitals in public sector, private sector and total hospitals to int datatype"
   ]
  },
  {
   "cell_type": "code",
   "execution_count": 537,
   "metadata": {},
   "outputs": [
    {
     "data": {
      "text/html": [
       "<div>\n",
       "<style scoped>\n",
       "    .dataframe tbody tr th:only-of-type {\n",
       "        vertical-align: middle;\n",
       "    }\n",
       "\n",
       "    .dataframe tbody tr th {\n",
       "        vertical-align: top;\n",
       "    }\n",
       "\n",
       "    .dataframe thead th {\n",
       "        text-align: right;\n",
       "    }\n",
       "</style>\n",
       "<table border=\"1\" class=\"dataframe\">\n",
       "  <thead>\n",
       "    <tr style=\"text-align: right;\">\n",
       "      <th></th>\n",
       "      <th>States/UTs</th>\n",
       "      <th>Number of hospitals in public sector</th>\n",
       "      <th>Number of hospitals in private sector</th>\n",
       "      <th>Total number of hospitals (public+private)</th>\n",
       "    </tr>\n",
       "  </thead>\n",
       "  <tbody>\n",
       "    <tr>\n",
       "      <th>36</th>\n",
       "      <td>Ladakh</td>\n",
       "      <td>NaN</td>\n",
       "      <td>NaN</td>\n",
       "      <td>NaN</td>\n",
       "    </tr>\n",
       "  </tbody>\n",
       "</table>\n",
       "</div>"
      ],
      "text/plain": [
       "   States/UTs Number of hospitals in public sector  \\\n",
       "36     Ladakh                                  NaN   \n",
       "\n",
       "   Number of hospitals in private sector  \\\n",
       "36                                   NaN   \n",
       "\n",
       "   Total number of hospitals (public+private)  \n",
       "36                                        NaN  "
      ]
     },
     "execution_count": 537,
     "metadata": {},
     "output_type": "execute_result"
    }
   ],
   "source": [
    "# Get list of all rows where we have null values in any columns\n",
    "\n",
    "df[df['Number of hospitals in public sector'].isna() | \n",
    "   df['Number of hospitals in private sector'].isna() | \n",
    "   df['Total number of hospitals (public+private)'].isna()]\n",
    "\n",
    "# *** Is there a better way to get this - \n",
    "#     mentioning all column names is not a viable option with datasets which have many column names. "
   ]
  },
  {
   "cell_type": "markdown",
   "metadata": {},
   "source": [
    "### Inference:\n",
    "    1. There is one row, with null values for all of the 3 columns. I feel its better delete the row."
   ]
  },
  {
   "cell_type": "code",
   "execution_count": 538,
   "metadata": {},
   "outputs": [],
   "source": [
    "# Drop a row from DataFrame based on index\n",
    "df.drop([36], inplace=True)"
   ]
  },
  {
   "cell_type": "code",
   "execution_count": 539,
   "metadata": {},
   "outputs": [],
   "source": [
    "# Code to replace 'comma' from values of three columns.\n",
    "df['Number of hospitals in public sector'] = df['Number of hospitals in public sector'].str.replace(',', '')\n",
    "df['Number of hospitals in private sector'] = df['Number of hospitals in private sector'].str.replace(',', '')\n",
    "df['Total number of hospitals (public+private)'] = df['Total number of hospitals (public+private)'].str.replace(',', '')"
   ]
  },
  {
   "cell_type": "code",
   "execution_count": 540,
   "metadata": {},
   "outputs": [
    {
     "data": {
      "text/plain": [
       "States/UTs                                    object\n",
       "Number of hospitals in public sector          object\n",
       "Number of hospitals in private sector         object\n",
       "Total number of hospitals (public+private)    object\n",
       "dtype: object"
      ]
     },
     "execution_count": 540,
     "metadata": {},
     "output_type": "execute_result"
    }
   ],
   "source": [
    "df.dtypes"
   ]
  },
  {
   "cell_type": "code",
   "execution_count": 541,
   "metadata": {},
   "outputs": [],
   "source": [
    "# convert three column datatype from str into int\n",
    "df['Number of hospitals in public sector'] = df['Number of hospitals in public sector'].astype(int)\n",
    "df['Number of hospitals in private sector'] = df['Number of hospitals in private sector'].astype(int)\n",
    "df['Total number of hospitals (public+private)'] = df['Total number of hospitals (public+private)'].astype(int)"
   ]
  },
  {
   "cell_type": "code",
   "execution_count": 542,
   "metadata": {
    "scrolled": true
   },
   "outputs": [
    {
     "data": {
      "text/plain": [
       "States/UTs                                    object\n",
       "Number of hospitals in public sector           int64\n",
       "Number of hospitals in private sector          int64\n",
       "Total number of hospitals (public+private)     int64\n",
       "dtype: object"
      ]
     },
     "execution_count": 542,
     "metadata": {},
     "output_type": "execute_result"
    }
   ],
   "source": [
    "df.dtypes"
   ]
  },
  {
   "cell_type": "code",
   "execution_count": 543,
   "metadata": {},
   "outputs": [],
   "source": [
    "import matplotlib.pyplot as plt\n",
    "from matplotlib import rcParams"
   ]
  },
  {
   "cell_type": "code",
   "execution_count": 544,
   "metadata": {},
   "outputs": [],
   "source": [
    "rcParams['figure.figsize'] = 10,8"
   ]
  },
  {
   "cell_type": "code",
   "execution_count": 545,
   "metadata": {},
   "outputs": [
    {
     "data": {
      "text/html": [
       "<div>\n",
       "<style scoped>\n",
       "    .dataframe tbody tr th:only-of-type {\n",
       "        vertical-align: middle;\n",
       "    }\n",
       "\n",
       "    .dataframe tbody tr th {\n",
       "        vertical-align: top;\n",
       "    }\n",
       "\n",
       "    .dataframe thead th {\n",
       "        text-align: right;\n",
       "    }\n",
       "</style>\n",
       "<table border=\"1\" class=\"dataframe\">\n",
       "  <thead>\n",
       "    <tr style=\"text-align: right;\">\n",
       "      <th></th>\n",
       "      <th>States/UTs</th>\n",
       "      <th>Number of hospitals in public sector</th>\n",
       "      <th>Number of hospitals in private sector</th>\n",
       "      <th>Total number of hospitals (public+private)</th>\n",
       "    </tr>\n",
       "  </thead>\n",
       "  <tbody>\n",
       "    <tr>\n",
       "      <th>35</th>\n",
       "      <td>Uttar Pradesh</td>\n",
       "      <td>4635</td>\n",
       "      <td>12468</td>\n",
       "      <td>17103</td>\n",
       "    </tr>\n",
       "    <tr>\n",
       "      <th>34</th>\n",
       "      <td>Karnataka</td>\n",
       "      <td>2842</td>\n",
       "      <td>7842</td>\n",
       "      <td>10684</td>\n",
       "    </tr>\n",
       "    <tr>\n",
       "      <th>33</th>\n",
       "      <td>Rajasthan</td>\n",
       "      <td>2850</td>\n",
       "      <td>2794</td>\n",
       "      <td>5644</td>\n",
       "    </tr>\n",
       "    <tr>\n",
       "      <th>32</th>\n",
       "      <td>Telangana</td>\n",
       "      <td>863</td>\n",
       "      <td>3247</td>\n",
       "      <td>4110</td>\n",
       "    </tr>\n",
       "    <tr>\n",
       "      <th>31</th>\n",
       "      <td>Kerala</td>\n",
       "      <td>1280</td>\n",
       "      <td>2062</td>\n",
       "      <td>3342</td>\n",
       "    </tr>\n",
       "  </tbody>\n",
       "</table>\n",
       "</div>"
      ],
      "text/plain": [
       "       States/UTs  Number of hospitals in public sector  \\\n",
       "35  Uttar Pradesh                                  4635   \n",
       "34      Karnataka                                  2842   \n",
       "33      Rajasthan                                  2850   \n",
       "32      Telangana                                   863   \n",
       "31         Kerala                                  1280   \n",
       "\n",
       "    Number of hospitals in private sector  \\\n",
       "35                                  12468   \n",
       "34                                   7842   \n",
       "33                                   2794   \n",
       "32                                   3247   \n",
       "31                                   2062   \n",
       "\n",
       "    Total number of hospitals (public+private)  \n",
       "35                                       17103  \n",
       "34                                       10684  \n",
       "33                                        5644  \n",
       "32                                        4110  \n",
       "31                                        3342  "
      ]
     },
     "execution_count": 545,
     "metadata": {},
     "output_type": "execute_result"
    }
   ],
   "source": [
    "# Show top 5 states/UT's with largest number of hospitals (both public and private)\n",
    "sorted_df = df.sort_values('Total number of hospitals (public+private)', ascending=False)\n",
    "sorted_df.head()"
   ]
  },
  {
   "cell_type": "raw",
   "metadata": {},
   "source": [
    "# Display Top 5 states with hightest number of hospitals \n",
    "stateNames = sorted_df['States/UTs'].head()\n",
    "plt.pie(sorted_df['Total number of hospitals (public+private)'].head(),\n",
    "        labels=stateNames, autopct=\"%1.1f%%\") #%1.1f%%\n",
    "plt.title=\"Top 5 states with hightest number of hospitals\"\n",
    "plt.show()"
   ]
  },
  {
   "cell_type": "code",
   "execution_count": 546,
   "metadata": {
    "scrolled": true
   },
   "outputs": [
    {
     "data": {
      "text/html": [
       "<div>\n",
       "<style scoped>\n",
       "    .dataframe tbody tr th:only-of-type {\n",
       "        vertical-align: middle;\n",
       "    }\n",
       "\n",
       "    .dataframe tbody tr th {\n",
       "        vertical-align: top;\n",
       "    }\n",
       "\n",
       "    .dataframe thead th {\n",
       "        text-align: right;\n",
       "    }\n",
       "</style>\n",
       "<table border=\"1\" class=\"dataframe\">\n",
       "  <thead>\n",
       "    <tr style=\"text-align: right;\">\n",
       "      <th></th>\n",
       "      <th>States/UTs</th>\n",
       "      <th>Number of hospitals in public sector</th>\n",
       "      <th>Number of hospitals in private sector</th>\n",
       "    </tr>\n",
       "  </thead>\n",
       "  <tbody>\n",
       "    <tr>\n",
       "      <th>0</th>\n",
       "      <td>Uttar Pradesh</td>\n",
       "      <td>4635</td>\n",
       "      <td>12468</td>\n",
       "    </tr>\n",
       "    <tr>\n",
       "      <th>1</th>\n",
       "      <td>Karnataka</td>\n",
       "      <td>2842</td>\n",
       "      <td>7842</td>\n",
       "    </tr>\n",
       "    <tr>\n",
       "      <th>2</th>\n",
       "      <td>Rajasthan</td>\n",
       "      <td>2850</td>\n",
       "      <td>2794</td>\n",
       "    </tr>\n",
       "    <tr>\n",
       "      <th>3</th>\n",
       "      <td>Telangana</td>\n",
       "      <td>863</td>\n",
       "      <td>3247</td>\n",
       "    </tr>\n",
       "    <tr>\n",
       "      <th>4</th>\n",
       "      <td>Kerala</td>\n",
       "      <td>1280</td>\n",
       "      <td>2062</td>\n",
       "    </tr>\n",
       "  </tbody>\n",
       "</table>\n",
       "</div>"
      ],
      "text/plain": [
       "      States/UTs  Number of hospitals in public sector  \\\n",
       "0  Uttar Pradesh                                  4635   \n",
       "1      Karnataka                                  2842   \n",
       "2      Rajasthan                                  2850   \n",
       "3      Telangana                                   863   \n",
       "4         Kerala                                  1280   \n",
       "\n",
       "   Number of hospitals in private sector  \n",
       "0                                  12468  \n",
       "1                                   7842  \n",
       "2                                   2794  \n",
       "3                                   3247  \n",
       "4                                   2062  "
      ]
     },
     "execution_count": 546,
     "metadata": {},
     "output_type": "execute_result"
    }
   ],
   "source": [
    "# Extract 3 columns of data (states, public hospitals, private hospitals) to show comparision\n",
    "df_private_vs_public = sorted_df[['States/UTs',\n",
    "                                  'Number of hospitals in public sector',\n",
    "                                  'Number of hospitals in private sector']]\n",
    "# Reset index values\n",
    "df_private_vs_public.reset_index(drop=True).head()"
   ]
  },
  {
   "cell_type": "raw",
   "metadata": {},
   "source": [
    "# Draw a stacked bar chart to display the data of top 5 states and compare the ratio of public vs private hospitals\n",
    "df_private_vs_public.head().plot(kind='bar', stacked=True, x=\"States/UTs\")\n",
    "plt.show()"
   ]
  },
  {
   "cell_type": "code",
   "execution_count": 552,
   "metadata": {},
   "outputs": [
    {
     "data": {
      "image/png": "[encoded data removed]",
      "text/plain": [
       "<Figure size 1440x864 with 2 Axes>"
      ]
     },
     "metadata": {
      "needs_background": "light"
     },
     "output_type": "display_data"
    }
   ],
   "source": [
    "rcParams['figure.figsize'] = 20,12\n",
    "figure, axes = plt.subplots(1,2)\n",
    "\n",
    "stateNames = sorted_df['States/UTs'].head()\n",
    "\n",
    "# Plot a pie chart in first subplot\n",
    "# Display Top 5 states with hightest number of hospitals \n",
    "sorted_df.head().plot.pie(y='Total number of hospitals (public+private)', \n",
    "                          labels=stateNames, \n",
    "                          autopct=\"%1.1f%%\",\n",
    "                          ax=axes[0], \n",
    "                          title=\"Top 5 states with hightest number of hospitals\")\n",
    "\n",
    "# Plot a stacked bar chart in second subplot\n",
    "# Display the data of top 5 states and compare the count of public vs private hospitals\n",
    "df_private_vs_public.head().plot(kind='bar', \n",
    "                                 stacked=True, \n",
    "                                 x=\"States/UTs\",\n",
    "                                 ax=axes[1], title=\"Private vs Public hospitals in Top 5 states\")\n",
    "\n",
    "plt.show()"
   ]
  },
  {
   "cell_type": "code",
   "execution_count": null,
   "metadata": {},
   "outputs": [],
   "source": []
  }
 ],
 "metadata": {
  "kernelspec": {
   "display_name": "Python 3",
   "language": "python",
   "name": "python3"
  },
  "language_info": {
   "codemirror_mode": {
    "name": "ipython",
    "version": 3
   },
   "file_extension": ".py",
   "mimetype": "text/x-python",
   "name": "python",
   "nbconvert_exporter": "python",
   "pygments_lexer": "ipython3",
   "version": "3.8.5"
  }
 },
 "nbformat": 4,
 "nbformat_minor": 4
}
